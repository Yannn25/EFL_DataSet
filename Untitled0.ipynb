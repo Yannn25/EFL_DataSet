{
  "nbformat": 4,
  "nbformat_minor": 0,
  "metadata": {
    "colab": {
      "provenance": [],
      "authorship_tag": "ABX9TyPm0b0wtbGuBNcGKa6Rf7AY",
      "include_colab_link": true
    },
    "kernelspec": {
      "name": "python3",
      "display_name": "Python 3"
    },
    "language_info": {
      "name": "python"
    }
  },
  "cells": [
    {
      "cell_type": "markdown",
      "metadata": {
        "id": "view-in-github",
        "colab_type": "text"
      },
      "source": [
        "<a href=\"https://colab.research.google.com/github/Yannn25/EFL_DataSet/blob/main/Untitled0.ipynb\" target=\"_parent\"><img src=\"https://colab.research.google.com/assets/colab-badge.svg\" alt=\"Open In Colab\"/></a>"
      ]
    },
    {
      "cell_type": "code",
      "execution_count": 8,
      "metadata": {
        "id": "uXgJzojyKSh3"
      },
      "outputs": [],
      "source": [
        "# Si nécessaire décommenter ces lignes\n",
        "#!pip install beautifulsoup4\n",
        "#!pip install selenium\n",
        "\n",
        "import requests as req\n",
        "from bs4 import BeautifulSoup\n",
        "from selenium import webdriver"
      ]
    },
    {
      "cell_type": "markdown",
      "source": [
        "**1.** ***DataSet des players de la league***"
      ],
      "metadata": {
        "id": "X4YbxPqAPyua"
      }
    },
    {
      "cell_type": "code",
      "source": [
        "# On commence en récuperant l'url de la page que l'on va scrapper\n",
        "url_efl_player = \"https://www.sportsmetrics.football/player\"\n",
        "\n",
        "# Création de la requete qui va établir une connexion avec la page concerné\n",
        "res = req.get(url_efl_player)\n",
        "print(res)\n",
        "\n",
        "# Un objet Soup est crée afin de contenir l'ensemble de la page web\n",
        "soup = bs4.BeautifulSoup(res.content, 'html.parser')\n",
        "print(soup.title)"
      ],
      "metadata": {
        "colab": {
          "base_uri": "https://localhost:8080/"
        },
        "id": "o26iSjcfP_2c",
        "outputId": "0ac6c6e2-f924-4020-d5e9-e878426bb50d"
      },
      "execution_count": 9,
      "outputs": [
        {
          "output_type": "stream",
          "name": "stdout",
          "text": [
            "<Response [200]>\n",
            "<title>SportsMetrics</title>\n"
          ]
        }
      ]
    }
  ]
}